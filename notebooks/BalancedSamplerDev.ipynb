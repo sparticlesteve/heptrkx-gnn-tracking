{
 "cells": [
  {
   "cell_type": "markdown",
   "metadata": {},
   "source": [
    "# Development and testing of the Balanced Data Sampler\n",
    "\n",
    "The graph data for this project is highly variable in size, leading to load imbalance issues when training distributed.\n",
    "\n",
    "This notebook is for developing the balanced batch sampler for training our GNNs in a load-balanced way. We use the Etalumis batch sampler for inspiration, copied to Jacob's repo here for now:\n",
    "https://github.com/jbalma/heptrkx-gnn-tracking/blob/master/datasets/loadbal_sampler.py\n",
    "\n",
    "Here's what the etalumis batch sampler essentially does\n",
    "1. Sorts the file list by size\n",
    "2. Chunks the sorted list into mini-batches (local batch size)\n",
    "3. Chunks the mini-batches into buckets\n",
    "4. In each epoch,\n",
    "  - shuffle the buckets and shuffle the mini-batches in each bucket\n",
    "  - loop over buckets and over mini-batches in each bucket, yielding indices\n",
    "\n",
    "Consequences\n",
    "* by building minibatches from the sorted list, guaranteed to have the most similar samples in a batch.\n",
    "* however, mini-batches are formed from fixed sets of samples\n",
    "* buckets are shuffled each epoch, but within an epoch, each bucket is fully processed before moving on to the next\n",
    "\n",
    "Here's what I think we'd like to do instead\n",
    "1. Sort the file list\n",
    "2. Chunks the samples into buckets\n",
    "3. In each epoch,\n",
    "  - shuffle the samples within each bucket\n",
    "  - chunk each bucket into mini-batches\n",
    "  - Shuffle the mini-batches\n",
    "  - Loop over the mini-batches and yield the indices\n",
    "\n",
    "**Structure of this notebook**\n",
    "1. Define and build a metadata dataset which just contains the sizes of the graphs. We don't need to fully load the graphs for these tests\n",
    "2. Implement a simple balanced batch sampler without distributed training support\n",
    "3. Compare batch loading from a regular pipeline to the balanced one and plot the sample size variance\n",
    "4. Implement a *distributed* balanced batch sampler\n",
    "5. Test the distributed balanced batch sampler"
   ]
  },
  {
   "cell_type": "code",
   "execution_count": 1,
   "metadata": {},
   "outputs": [],
   "source": [
    "# System imports\n",
    "import os\n",
    "import sys"
   ]
  },
  {
   "cell_type": "code",
   "execution_count": 2,
   "metadata": {},
   "outputs": [],
   "source": [
    "# External imports\n",
    "import numpy as np\n",
    "import pandas as pd\n",
    "import torch\n",
    "from torch.utils.data import DataLoader\n",
    "from torch_geometric.data import Batch\n",
    "\n",
    "import matplotlib.pyplot as plt"
   ]
  },
  {
   "cell_type": "code",
   "execution_count": 3,
   "metadata": {},
   "outputs": [],
   "source": [
    "# Local imports\n",
    "sys.path.append('..')\n",
    "from datasets.hitgraphs_sparse import HitGraphDataset"
   ]
  },
  {
   "cell_type": "code",
   "execution_count": 4,
   "metadata": {},
   "outputs": [],
   "source": [
    "%matplotlib inline"
   ]
  },
  {
   "cell_type": "code",
   "execution_count": 5,
   "metadata": {},
   "outputs": [],
   "source": [
    "plt.rcParams['font.size'] = 16.0"
   ]
  },
  {
   "cell_type": "markdown",
   "metadata": {},
   "source": [
    "## Configuration"
   ]
  },
  {
   "cell_type": "code",
   "execution_count": 6,
   "metadata": {},
   "outputs": [],
   "source": [
    "input_dir = os.path.expandvars('${SCRATCH}/heptrkx/data/hitgraphs_high_002')\n",
    "#n_train = 32768\n",
    "batch_size = 32\n",
    "n_buckets = 32"
   ]
  },
  {
   "cell_type": "markdown",
   "metadata": {},
   "source": [
    "## Build and load the metadata"
   ]
  },
  {
   "cell_type": "code",
   "execution_count": 7,
   "metadata": {},
   "outputs": [],
   "source": [
    "def process_file(filename):\n",
    "    with np.load(filename) as f:\n",
    "        n_nodes = f['X'].shape[0]\n",
    "        n_edges = f['y'].shape[0]\n",
    "        purity = f['y'].mean()\n",
    "    return dict(n_nodes=n_nodes, n_edges=n_edges, purity=purity)\n",
    "\n",
    "def prepare_metadata(data_dir, n_files=None):\n",
    "    files = [os.path.join(data_dir, f) for f in os.listdir(data_dir)\n",
    "             if not f.endswith('_ID.npz')]\n",
    "    print('%i total files' % len(files))\n",
    "    if n_files is not None:\n",
    "        files = files[:n_files]\n",
    "    return (pd.DataFrame.from_records([process_file(f) for f in files])\n",
    "            .assign(file=files))\n",
    "\n",
    "def save_metadata(metadata, data_dir):\n",
    "    metadata.to_csv(os.path.join(data_dir, 'metadata.csv'))\n",
    "\n",
    "def read_metadata(data_dir):\n",
    "    return pd.read_csv(os.path.join(data_dir, 'metadata.csv'))"
   ]
  },
  {
   "cell_type": "code",
   "execution_count": 17,
   "metadata": {},
   "outputs": [],
   "source": [
    "class GraphSizeMetaDataset(torch.utils.data.Dataset):\n",
    "    \"\"\"Meta dataset just containing the node and edge counts of the graphs\"\"\"\n",
    "    def __init__(self, metadata):\n",
    "        self.metadata = metadata\n",
    "    \n",
    "    def __getitem__(self, index):\n",
    "        return self.metadata[['n_nodes', 'n_edges']].iloc[index].values\n",
    "    \n",
    "    def __len__(self):\n",
    "        return len(self.metadata)"
   ]
  },
  {
   "cell_type": "code",
   "execution_count": null,
   "metadata": {},
   "outputs": [],
   "source": [
    "%%time\n",
    "\n",
    "# Run this cell only if you need to make/remake the metadata\n",
    "metadata = process_dataset(input_dir)\n",
    "save_metadata(metadata, input_dir)"
   ]
  },
  {
   "cell_type": "markdown",
   "metadata": {},
   "source": [
    "## Balanced sampler design"
   ]
  },
  {
   "cell_type": "code",
   "execution_count": 18,
   "metadata": {},
   "outputs": [],
   "source": [
    "def compute_sizes(dataset):\n",
    "    \"\"\"\n",
    "    Function which computes the size metric for a dataset.\n",
    "    For our meta-dataset containing the sizes, we'll for now just use the number of edges.\n",
    "    \"\"\"\n",
    "    return dataset.metadata.n_edges.values"
   ]
  },
  {
   "cell_type": "code",
   "execution_count": 19,
   "metadata": {},
   "outputs": [],
   "source": [
    "class BalancedBatchSampler(torch.utils.data.Sampler):\n",
    "    def __init__(self, dataset, batch_size, n_buckets, size_fn=compute_sizes):\n",
    "        self.dataset = dataset\n",
    "        self.batch_size = batch_size\n",
    "        \n",
    "        # Compute the sizes of each sample in the dataset.\n",
    "        self.sample_sizes = size_fn(dataset)\n",
    "        \n",
    "        # Make buckets from sorted sample indices\n",
    "        self.buckets = self.sample_sizes.argsort().reshape(-1, n_buckets)\n",
    "    \n",
    "    def __iter__(self):\n",
    "\n",
    "        # Shuffle samples within each bucket\n",
    "        for bucket in self.buckets:\n",
    "            np.random.shuffle(bucket)\n",
    "        \n",
    "        # Form batches - here I copy to avoid repeating sort + bucket\n",
    "        batches = self.buckets.copy().reshape(-1, self.batch_size)\n",
    "\n",
    "        # Shuffle the batches\n",
    "        np.random.shuffle(batches)\n",
    "        \n",
    "        # Loop and yield batch indices\n",
    "        for batch in batches:\n",
    "            yield batch\n",
    "    \n",
    "    def __len__(self):\n",
    "        return len(self.dataset) // self.batch_size"
   ]
  },
  {
   "cell_type": "markdown",
   "metadata": {},
   "source": [
    "## Prepare the data pipelines for comparison"
   ]
  },
  {
   "cell_type": "code",
   "execution_count": 20,
   "metadata": {},
   "outputs": [],
   "source": [
    "# Construct the dataset\n",
    "metadata = read_metadata(input_dir)\n",
    "dataset = GraphSizeMetaDataset(metadata)"
   ]
  },
  {
   "cell_type": "raw",
   "metadata": {},
   "source": [
    "# Construct the dataset\n",
    "dataset = GraphSizeDataset(input_dir=input_dir, n_samples=n_train)"
   ]
  },
  {
   "cell_type": "code",
   "execution_count": 21,
   "metadata": {},
   "outputs": [],
   "source": [
    "# Normal loader with default sampler\n",
    "basic_loader = DataLoader(dataset, batch_size=batch_size)"
   ]
  },
  {
   "cell_type": "code",
   "execution_count": 22,
   "metadata": {},
   "outputs": [
    {
     "name": "stdout",
     "output_type": "stream",
     "text": [
      "CPU times: user 6.53 ms, sys: 1.11 ms, total: 7.64 ms\n",
      "Wall time: 6.38 ms\n"
     ]
    }
   ],
   "source": [
    "%%time\n",
    "\n",
    "# Balanced loader\n",
    "balanced_sampler = BalancedBatchSampler(dataset, batch_size=batch_size, n_buckets=n_buckets)\n",
    "balanced_loader = DataLoader(dataset, batch_sampler=balanced_sampler)"
   ]
  },
  {
   "cell_type": "markdown",
   "metadata": {},
   "source": [
    "## Compare graph variability\n",
    "\n",
    "We're going to look at the mini-batch standard deviations of graph size (nodes and edges)."
   ]
  },
  {
   "cell_type": "code",
   "execution_count": 24,
   "metadata": {},
   "outputs": [
    {
     "name": "stdout",
     "output_type": "stream",
     "text": [
      "CPU times: user 1min 11s, sys: 27.9 s, total: 1min 39s\n",
      "Wall time: 1min 39s\n"
     ]
    }
   ],
   "source": [
    "%%time\n",
    "\n",
    "# Uniform data sampling\n",
    "basic_stddev = np.stack([batch.numpy().std(axis=0) for batch in basic_loader])"
   ]
  },
  {
   "cell_type": "code",
   "execution_count": 25,
   "metadata": {},
   "outputs": [
    {
     "name": "stdout",
     "output_type": "stream",
     "text": [
      "CPU times: user 1min 11s, sys: 27.8 s, total: 1min 39s\n",
      "Wall time: 1min 39s\n"
     ]
    }
   ],
   "source": [
    "%%time\n",
    "\n",
    "# Balanced data sampling\n",
    "balanced_stddev = np.stack([batch.numpy().std(axis=0) for batch in balanced_loader])"
   ]
  },
  {
   "cell_type": "code",
   "execution_count": 26,
   "metadata": {},
   "outputs": [
    {
     "data": {
      "image/png": "[encoded data removed]",
      "text/plain": [
       "<Figure size 1152x432 with 2 Axes>"
      ]
     },
     "metadata": {
      "needs_background": "light"
     },
     "output_type": "display_data"
    }
   ],
   "source": [
    "fig, (ax0, ax1) = plt.subplots(ncols=2, figsize=(16, 6))\n",
    "\n",
    "ax0.hist((basic_stddev[:,0], balanced_stddev[:,0]),\n",
    "         bins=32, range=(0, 1000), log=True,\n",
    "         histtype='stepfilled', alpha=0.7,\n",
    "         label=('unbalanced', 'balanced'))\n",
    "ax1.hist((basic_stddev[:,1], balanced_stddev[:,1]),\n",
    "         bins=32, range=(0, 10000), log=True,\n",
    "         histtype='stepfilled', alpha=0.7,\n",
    "         label=('unbalanced', 'balanced'))\n",
    "\n",
    "ax0.set_xlabel('$\\sigma$(nodes)')\n",
    "ax1.set_xlabel('$\\sigma$(edges)')\n",
    "ax0.legend(loc=0)\n",
    "ax1.legend(loc=0)\n",
    "plt.tight_layout()"
   ]
  },
  {
   "cell_type": "markdown",
   "metadata": {},
   "source": [
    "## Discussion\n",
    "\n",
    "I have a basic balanced sampler in place and have demonstrated the potential for greatly reduced graph size variance. This is good.\n",
    "\n",
    "The sampler is not yet distributed, so I need to enable that functionality.\n",
    "\n",
    "**I need to implement deterministic epoch-based shuffling for this to work**"
   ]
  },
  {
   "cell_type": "markdown",
   "metadata": {},
   "source": [
    "## Going distributed\n",
    "\n",
    "What will it take to make this design work in the distributed setting?\n",
    "\n",
    "In the etalumis code, it seems they keep random shuffling consistent across ranks and then break up the mini-batches accordingly.\n",
    "This might be the only way to really do things effectively, because I cannot let each rank separately shuffle different subsets of data.\n",
    "\n",
    "Let's review how it's done in the offical pytorch distributed sampler.\n",
    "\n",
    "https://pytorch.org/docs/stable/_modules/torch/utils/data/distributed.html#DistributedSampler\n",
    "\n",
    "They have deterministic shuffling based on epoch number. This would be useful to replicate here.\n",
    "\n",
    "I may need to think about how to enable seamless switching of samplers. In the normal case, I use the DistributedSampler and call set_epoch.\n",
    "In this case I won't even use a regular sampler but just a distributed batch sampler. I don't really want a bunch of control flow. So, maybe I should avoid having a set_epoch method.\n",
    "\n",
    "The etalumis code updates epoch internally, which I like, though I might add an option to at least set an initial epoch in the constructor or otherwise for resuming from checkpoint.\n",
    "\n",
    "I should be able to test the distributed setting here in this notebook by instantiating multiple samplers and manually setting ranks."
   ]
  },
  {
   "cell_type": "code",
   "execution_count": 89,
   "metadata": {},
   "outputs": [],
   "source": [
    "class DistributedBalancedBatchSampler(torch.utils.data.Sampler):\n",
    "    def __init__(self, dataset, batch_size, n_buckets, rank=0, n_ranks=1, size_fn=compute_sizes):\n",
    "        self.dataset = dataset\n",
    "        self.batch_size = batch_size\n",
    "        self.epoch = -1\n",
    "        self.rank = rank\n",
    "        self.n_ranks = n_ranks\n",
    "        \n",
    "        # Compute the sizes of each sample in the dataset.\n",
    "        self.sample_sizes = size_fn(dataset)\n",
    "        \n",
    "        # Make buckets from sorted sample indices\n",
    "        self.buckets = self.sample_sizes.argsort().reshape(-1, n_buckets)\n",
    "    \n",
    "    def __iter__(self):\n",
    "        \n",
    "        # Increment epoch\n",
    "        self.epoch += 1\n",
    "        \n",
    "        # Deterministic shuffling based on epoch\n",
    "        g = np.random.default_rng(self.epoch)\n",
    "        \n",
    "        # Shuffle samples within each bucket\n",
    "        for bucket in self.buckets:\n",
    "            g.shuffle(bucket)\n",
    "        \n",
    "        # Form batches - here I copy to avoid repeating sort + bucket\n",
    "        global_batch_size = self.batch_size * self.n_ranks\n",
    "        batches = self.buckets.copy().reshape(-1, global_batch_size)\n",
    "\n",
    "        # Shuffle the batches\n",
    "        g.shuffle(batches)\n",
    "        \n",
    "        # Loop and yield batch indices for this rank\n",
    "        for batch in batches:\n",
    "            yield batch[self.rank:global_batch_size:self.n_ranks]\n",
    "    \n",
    "    def __len__(self):\n",
    "        return len(self.dataset) // self.batch_size"
   ]
  },
  {
   "cell_type": "code",
   "execution_count": 90,
   "metadata": {},
   "outputs": [],
   "source": [
    "# Distributed config\n",
    "n_buckets = 32\n",
    "batch_size = 4\n",
    "n_ranks = 2"
   ]
  },
  {
   "cell_type": "code",
   "execution_count": 91,
   "metadata": {},
   "outputs": [],
   "source": [
    "# Balanced loaders\n",
    "samplers = [DistributedBalancedBatchSampler(dataset, batch_size=batch_size,\n",
    "                                            n_buckets=n_buckets,\n",
    "                                            rank=r, n_ranks=n_ranks)\n",
    "            for r in range(n_ranks)]\n",
    "\n",
    "loaders = [DataLoader(dataset, batch_sampler=s) for s in samplers]"
   ]
  },
  {
   "cell_type": "code",
   "execution_count": 98,
   "metadata": {},
   "outputs": [
    {
     "name": "stdout",
     "output_type": "stream",
     "text": [
      "DistributedBalancedBatchSampler.__iter__\n",
      "DistributedBalancedBatchSampler.__iter__\n",
      "tensor([[ 3807, 17386],\n",
      "        [ 4042, 17387],\n",
      "        [ 3973, 17384],\n",
      "        [ 3968, 17383]])\n",
      "tensor([[ 3762, 17383],\n",
      "        [ 3830, 17383],\n",
      "        [ 4049, 17384],\n",
      "        [ 3921, 17384]])\n"
     ]
    }
   ],
   "source": [
    "for batch0 in loaders[0]:\n",
    "    break\n",
    "\n",
    "for batch1 in loaders[1]:\n",
    "    break\n",
    "\n",
    "print(batch0)\n",
    "print(batch1)"
   ]
  },
  {
   "cell_type": "markdown",
   "metadata": {},
   "source": [
    "## Discussion\n",
    "\n",
    "The distributed samplers appear to be working well."
   ]
  },
  {
   "cell_type": "markdown",
   "metadata": {},
   "source": [
    "## References and old code"
   ]
  },
  {
   "cell_type": "raw",
   "metadata": {},
   "source": [
    "class DistributedGraphBatchSampler(Sampler):\n",
    "    def __init__(self, dataset, batch_size, shuffle_batches=True, num_buckets=None, shuffle_buckets=True):\n",
    "\n",
    "        # List of all minibatches, where each minibatch is a list of graph indices\n",
    "        self._batches = list(util.chunks(dataset._sorted_indices, batch_size))\n",
    "        if num_buckets is None:\n",
    "            num_buckets = len(self._batches) / self._world_size\n",
    "        self._num_buckets = num_buckets\n",
    "        self._bucket_size = math.ceil(len(self._batches) / num_buckets)\n",
    "        if self._bucket_size < self._world_size:\n",
    "            raise RuntimeError('offline_dataset:{}, batch_size:{} and num_buckets:{} imply a bucket_size:{} smaller than world_size:{}'\n",
    "                               .format(len(offline_dataset), batch_size, num_buckets, self._bucket_size, self._world_size))\n",
    "        # List of buckets, where each bucket is a list of minibatches\n",
    "        self._buckets = list(util.chunks(self._batches, self._bucket_size))\n",
    "        self._shuffle_batches = shuffle_batches\n",
    "        self._shuffle_buckets = shuffle_buckets\n",
    "        self._epoch = 0\n",
    "        self._current_bucket_id = 0\n",
    "\n",
    "        print('DistributedGraphBatchSampler')\n",
    "        print('OfflineDataset size : {:,}'.format(len(offline_dataset)))\n",
    "        print('World size          : {:,}'.format(self._world_size))\n",
    "        print('Batch size          : {:,}'.format(batch_size))\n",
    "        print('Num. batches dropped: {:,}'.format(num_batches_to_drop))\n",
    "        print('Num. batches        : {:,}'.format(len(self._batches)))\n",
    "        print('Bucket size         : {:,}'.format(self._bucket_size))\n",
    "        print('Num. buckets        : {:,}'.format(self._num_buckets))\n",
    "\n",
    "    def __iter__(self):\n",
    "        self._epoch += 1\n",
    "        bucket_ids = list(range(len(self._buckets)))\n",
    "        if self._shuffle_buckets:\n",
    "            # Shuffle the list of buckets (but not the order of minibatches inside each bucket)\n",
    "            # at the beginning of each epoch, deterministically based on the epoch number so that\n",
    "            # all nodes have the same bucket order\n",
    "            st = np.random.get_state()\n",
    "            np.random.seed(self._epoch)\n",
    "            np.random.shuffle(bucket_ids)\n",
    "            np.random.set_state(st)\n",
    "        for bucket_id in bucket_ids:\n",
    "            bucket = self._buckets[bucket_id]\n",
    "            self._current_bucket_id = bucket_id\n",
    "            \n",
    "            # num_batches is needed to ensure that all nodes have the same number of minibatches (iterations)\n",
    "            # in each bucket, in cases where the bucket size is not divisible by world_size.\n",
    "            num_batches = math.floor(len(bucket) / self._world_size)\n",
    "            \n",
    "            # Select a num_batches-sized subset of the current bucket for the current node\n",
    "            # The part not selected by the current node will be selected by other nodes\n",
    "            batches = bucket[self._rank:len(bucket):self._world_size][:num_batches]\n",
    "            if self._shuffle_batches:\n",
    "                # Shuffle the list of minibatches (but not the order trace indices inside each minibatch) selected for the current node\n",
    "                np.random.shuffle(batches)\n",
    "            for batch in batches:\n",
    "                print(\"batch=\",batch)\n",
    "                yield batch\n",
    "\n",
    "    def __len__(self):\n",
    "        return len(self._batches)"
   ]
  }
 ],
 "metadata": {
  "kernelspec": {
   "display_name": "pytorch-v1.4.0",
   "language": "python",
   "name": "pytorch-v1.4.0"
  },
  "language_info": {
   "codemirror_mode": {
    "name": "ipython",
    "version": 3
   },
   "file_extension": ".py",
   "mimetype": "text/x-python",
   "name": "python",
   "nbconvert_exporter": "python",
   "pygments_lexer": "ipython3",
   "version": "3.7.6"
  }
 },
 "nbformat": 4,
 "nbformat_minor": 4
}
