{
 "cells": [
  {
   "cell_type": "markdown",
   "metadata": {},
   "source": [
    "# GNN Scaling Analysis"
   ]
  },
  {
   "cell_type": "code",
   "execution_count": 7,
   "metadata": {},
   "outputs": [],
   "source": [
    "import os\n",
    "import sys\n",
    "import pickle\n",
    "import glob\n",
    "\n",
    "import pandas as pd\n",
    "import numpy as np\n",
    "\n",
    "import matplotlib.pyplot as plt\n",
    "\n",
    "# Local imports\n",
    "sys.path.append('..')\n",
    "from trainers import get_trainer\n",
    "from nb_utils import (load_config_file, load_config_dir, load_summaries,\n",
    "                      plot_train_history, get_test_data_loader,\n",
    "                      compute_metrics, plot_metrics, draw_sample_xy)"
   ]
  },
  {
   "cell_type": "code",
   "execution_count": 5,
   "metadata": {},
   "outputs": [],
   "source": [
    "%matplotlib inline"
   ]
  },
  {
   "cell_type": "code",
   "execution_count": 51,
   "metadata": {},
   "outputs": [],
   "source": [
    "plt.rcParams.update({'font.size': 14})"
   ]
  },
  {
   "cell_type": "code",
   "execution_count": 18,
   "metadata": {},
   "outputs": [],
   "source": [
    "def load_result(result_dir):\n",
    "    history_files = glob.glob(os.path.join(result_dir, 'summaries_*.csv'))\n",
    "    return pd.concat([pd.read_csv(f) for f in history_files], ignore_index=True)\n",
    "\n",
    "def compute_mean_time(r):\n",
    "    return r[r.epoch>0].train_time.mean()\n",
    "\n",
    "def get_num_samples(config):\n",
    "    return config['data']['n_train']\n",
    "\n",
    "def compute_throughput(result, config):\n",
    "    return get_num_samples(config) / compute_mean_time(result)"
   ]
  },
  {
   "cell_type": "code",
   "execution_count": 8,
   "metadata": {},
   "outputs": [
    {
     "name": "stdout",
     "output_type": "stream",
     "text": [
      "\u001b[0m\u001b[01;34mRNNFilter_20180207_1121\u001b[0m/  \u001b[01;34magnn_wd_000\u001b[0m/         \u001b[01;34mmpnn_med_001\u001b[0m/\n",
      "\u001b[01;34magnn_000\u001b[0m/                 \u001b[01;34magnn_wd_001\u001b[0m/         \u001b[01;34mmpnn_test\u001b[0m/\n",
      "\u001b[01;34magnn_001\u001b[0m/                 \u001b[01;34magnn_xavier\u001b[0m/         \u001b[01;34mnragnn_000\u001b[0m/\n",
      "\u001b[01;34magnn_002\u001b[0m/                 \u001b[01;34mgnnsparse_big_001\u001b[0m/   \u001b[01;34mnragnn_001\u001b[0m/\n",
      "\u001b[01;34magnn_002_8gpu\u001b[0m/            \u001b[01;34mgnnsparse_med_001\u001b[0m/   \u001b[01;34mnrmpnn_000\u001b[0m/\n",
      "\u001b[01;34magnn_003\u001b[0m/                 \u001b[01;34mhpotest\u001b[0m/             \u001b[01;34mnrmpnn_001\u001b[0m/\n",
      "\u001b[01;34magnn_004\u001b[0m/                 \u001b[01;34mmpnn_001\u001b[0m/            \u001b[01;34mpbt_20191004-092629\u001b[0m/\n",
      "\u001b[01;34magnn_005\u001b[0m/                 \u001b[01;34mmpnn_002\u001b[0m/            \u001b[01;34mpbt_20191004_111252\u001b[0m/\n",
      "\u001b[01;34magnn_006\u001b[0m/                 \u001b[01;34mmpnn_007\u001b[0m/            \u001b[01;34mpbt_20191004_111702\u001b[0m/\n",
      "\u001b[01;34magnn_007\u001b[0m/                 \u001b[01;34mmpnn_008\u001b[0m/            \u001b[01;34mpbt_20191004_112424\u001b[0m/\n",
      "\u001b[01;34magnn_008\u001b[0m/                 \u001b[01;34mmpnn_big_000\u001b[0m/        \u001b[01;34mpbt_20191004_131346\u001b[0m/\n",
      "\u001b[01;34magnn_009\u001b[0m/                 \u001b[01;34mmpnn_big_001\u001b[0m/        \u001b[01;34mpbt_20191004_131558\u001b[0m/\n",
      "\u001b[01;34magnn_big_000\u001b[0m/             \u001b[01;34mmpnn_big_002\u001b[0m/        \u001b[01;34mresagnn_000\u001b[0m/\n",
      "\u001b[01;34magnn_big_001\u001b[0m/             \u001b[01;34mmpnn_big_003\u001b[0m/        \u001b[01;34mresmpnn_001\u001b[0m/\n",
      "\u001b[01;34magnn_big_002\u001b[0m/             \u001b[01;34mmpnn_big_004\u001b[0m/        \u001b[01;34mresmpnn_002\u001b[0m/\n",
      "\u001b[01;34magnn_hpo_525312_0\u001b[0m/        \u001b[01;34mmpnn_big_005\u001b[0m/        \u001b[01;34mresmpnn_002a\u001b[0m/\n",
      "\u001b[01;34magnn_hpo_525312_1\u001b[0m/        \u001b[01;34mmpnn_big_006\u001b[0m/        \u001b[01;34mresmpnn_002b\u001b[0m/\n",
      "\u001b[01;34magnn_hpo_525312_10\u001b[0m/       \u001b[01;34mmpnn_big_007\u001b[0m/        \u001b[01;34mresmpnn_002c\u001b[0m/\n",
      "\u001b[01;34magnn_hpo_525312_11\u001b[0m/       \u001b[01;34mmpnn_big_008\u001b[0m/        \u001b[01;34mresmpnn_002d\u001b[0m/\n",
      "\u001b[01;34magnn_hpo_525312_12\u001b[0m/       \u001b[01;34mmpnn_hpo_526839_0\u001b[0m/   \u001b[01;34mresmpnn_003\u001b[0m/\n",
      "\u001b[01;34magnn_hpo_525312_13\u001b[0m/       \u001b[01;34mmpnn_hpo_526839_1\u001b[0m/   \u001b[01;34mresmpnn_004\u001b[0m/\n",
      "\u001b[01;34magnn_hpo_525312_14\u001b[0m/       \u001b[01;34mmpnn_hpo_526839_2\u001b[0m/   \u001b[01;34mresmpnn_005\u001b[0m/\n",
      "\u001b[01;34magnn_hpo_525312_15\u001b[0m/       \u001b[01;34mmpnn_hpo_526839_3\u001b[0m/   \u001b[01;34mresmpnn_backup\u001b[0m/\n",
      "\u001b[01;34magnn_hpo_525312_16\u001b[0m/       \u001b[01;34mmpnn_hpo_526839_4\u001b[0m/   \u001b[01;34mresmpnn_big_000\u001b[0m/\n",
      "\u001b[01;34magnn_hpo_525312_17\u001b[0m/       \u001b[01;34mmpnn_hpo_526839_5\u001b[0m/   \u001b[01;34mresmpnn_big_001\u001b[0m/\n",
      "\u001b[01;34magnn_hpo_525312_18\u001b[0m/       \u001b[01;34mmpnn_hpo_526839_6\u001b[0m/   \u001b[01;34mresmpnn_big_002\u001b[0m/\n",
      "\u001b[01;34magnn_hpo_525312_19\u001b[0m/       \u001b[01;34mmpnn_hpo_526839_7\u001b[0m/   \u001b[01;34mresmpnn_big_003\u001b[0m/\n",
      "\u001b[01;34magnn_hpo_525312_2\u001b[0m/        \u001b[01;34mmpnn_hpo_526841_0\u001b[0m/   \u001b[01;34mresmpnn_filt\u001b[0m/\n",
      "\u001b[01;34magnn_hpo_525312_20\u001b[0m/       \u001b[01;34mmpnn_hpo_526841_1\u001b[0m/   \u001b[01;34mresmpnn_noW\u001b[0m/\n",
      "\u001b[01;34magnn_hpo_525312_21\u001b[0m/       \u001b[01;34mmpnn_hpo_526841_10\u001b[0m/  \u001b[01;34mresmpnn_noW3\u001b[0m/\n",
      "\u001b[01;34magnn_hpo_525312_22\u001b[0m/       \u001b[01;34mmpnn_hpo_526841_11\u001b[0m/  \u001b[01;34mresmpnn_noW4\u001b[0m/\n",
      "\u001b[01;34magnn_hpo_525312_23\u001b[0m/       \u001b[01;34mmpnn_hpo_526841_12\u001b[0m/  \u001b[01;34mresmpnn_noW5\u001b[0m/\n",
      "\u001b[01;34magnn_hpo_525312_24\u001b[0m/       \u001b[01;34mmpnn_hpo_526841_13\u001b[0m/  \u001b[01;34mresmpnn_noW6\u001b[0m/\n",
      "\u001b[01;34magnn_hpo_525312_25\u001b[0m/       \u001b[01;34mmpnn_hpo_526841_14\u001b[0m/  \u001b[01;34mresmpnn_nomom\u001b[0m/\n",
      "\u001b[01;34magnn_hpo_525312_26\u001b[0m/       \u001b[01;34mmpnn_hpo_526841_15\u001b[0m/  \u001b[01;34mresmpnn_splitfix\u001b[0m/\n",
      "\u001b[01;34magnn_hpo_525312_27\u001b[0m/       \u001b[01;34mmpnn_hpo_526841_16\u001b[0m/  \u001b[01;34mresmpnn_splitfix_000\u001b[0m/\n",
      "\u001b[01;34magnn_hpo_525312_28\u001b[0m/       \u001b[01;34mmpnn_hpo_526841_17\u001b[0m/  \u001b[01;34mresmpnn_test\u001b[0m/\n",
      "\u001b[01;34magnn_hpo_525312_29\u001b[0m/       \u001b[01;34mmpnn_hpo_526841_18\u001b[0m/  \u001b[01;34mresmpnn_wd_000\u001b[0m/\n",
      "\u001b[01;34magnn_hpo_525312_3\u001b[0m/        \u001b[01;34mmpnn_hpo_526841_19\u001b[0m/  \u001b[01;34mresmpnn_xavier\u001b[0m/\n",
      "\u001b[01;34magnn_hpo_525312_30\u001b[0m/       \u001b[01;34mmpnn_hpo_526841_2\u001b[0m/   \u001b[01;34mscaling_agnn_n1\u001b[0m/\n",
      "\u001b[01;34magnn_hpo_525312_31\u001b[0m/       \u001b[01;34mmpnn_hpo_526841_20\u001b[0m/  \u001b[01;34mscaling_agnn_n16\u001b[0m/\n",
      "\u001b[01;34magnn_hpo_525312_32\u001b[0m/       \u001b[01;34mmpnn_hpo_526841_21\u001b[0m/  \u001b[01;34mscaling_agnn_n2\u001b[0m/\n",
      "\u001b[01;34magnn_hpo_525312_4\u001b[0m/        \u001b[01;34mmpnn_hpo_526841_22\u001b[0m/  \u001b[01;34mscaling_agnn_n32\u001b[0m/\n",
      "\u001b[01;34magnn_hpo_525312_5\u001b[0m/        \u001b[01;34mmpnn_hpo_526841_23\u001b[0m/  \u001b[01;34mscaling_agnn_n4\u001b[0m/\n",
      "\u001b[01;34magnn_hpo_525312_6\u001b[0m/        \u001b[01;34mmpnn_hpo_526841_24\u001b[0m/  \u001b[01;34mscaling_agnn_n64\u001b[0m/\n",
      "\u001b[01;34magnn_hpo_525312_7\u001b[0m/        \u001b[01;34mmpnn_hpo_526841_25\u001b[0m/  \u001b[01;34mscaling_agnn_n8\u001b[0m/\n",
      "\u001b[01;34magnn_hpo_525312_8\u001b[0m/        \u001b[01;34mmpnn_hpo_526841_26\u001b[0m/  \u001b[01;34mscaling_cgpu_agnn_n1\u001b[0m/\n",
      "\u001b[01;34magnn_hpo_525312_9\u001b[0m/        \u001b[01;34mmpnn_hpo_526841_27\u001b[0m/  \u001b[01;34mscaling_cgpu_agnn_n16\u001b[0m/\n",
      "\u001b[01;34magnn_noW\u001b[0m/                 \u001b[01;34mmpnn_hpo_526841_28\u001b[0m/  \u001b[01;34mscaling_cgpu_agnn_n2\u001b[0m/\n",
      "\u001b[01;34magnn_profiling\u001b[0m/           \u001b[01;34mmpnn_hpo_526841_3\u001b[0m/   \u001b[01;34mscaling_cgpu_agnn_n32\u001b[0m/\n",
      "\u001b[01;34magnn_relu\u001b[0m/                \u001b[01;34mmpnn_hpo_526841_4\u001b[0m/   \u001b[01;34mscaling_cgpu_agnn_n4\u001b[0m/\n",
      "\u001b[01;34magnn_scaling\u001b[0m/             \u001b[01;34mmpnn_hpo_526841_5\u001b[0m/   \u001b[01;34mscaling_cgpu_agnn_n64\u001b[0m/\n",
      "\u001b[01;34magnn_scaling_n1\u001b[0m/          \u001b[01;34mmpnn_hpo_526841_6\u001b[0m/   \u001b[01;34mscaling_cgpu_agnn_n8\u001b[0m/\n",
      "\u001b[01;34magnn_scaling_n2\u001b[0m/          \u001b[01;34mmpnn_hpo_526841_7\u001b[0m/   \u001b[01;34mtest\u001b[0m/\n",
      "\u001b[01;34magnn_scaling_n4\u001b[0m/          \u001b[01;34mmpnn_hpo_526841_8\u001b[0m/   \u001b[01;34mtest_big\u001b[0m/\n",
      "\u001b[01;34magnn_scaling_n8\u001b[0m/          \u001b[01;34mmpnn_hpo_526841_9\u001b[0m/   \u001b[01;34mtest_small\u001b[0m/\n",
      "\u001b[01;34magnn_test\u001b[0m/                \u001b[01;34mmpnn_med_000\u001b[0m/\n"
     ]
    }
   ],
   "source": [
    "ls $SCRATCH/heptrkx/results"
   ]
  },
  {
   "cell_type": "markdown",
   "metadata": {},
   "source": [
    "## Cori Scaling"
   ]
  },
  {
   "cell_type": "code",
   "execution_count": 9,
   "metadata": {},
   "outputs": [
    {
     "data": {
      "text/plain": [
       "['/global/cscratch1/sd/sfarrell/heptrkx/results/scaling_agnn_n1',\n",
       " '/global/cscratch1/sd/sfarrell/heptrkx/results/scaling_agnn_n16',\n",
       " '/global/cscratch1/sd/sfarrell/heptrkx/results/scaling_agnn_n2',\n",
       " '/global/cscratch1/sd/sfarrell/heptrkx/results/scaling_agnn_n32',\n",
       " '/global/cscratch1/sd/sfarrell/heptrkx/results/scaling_agnn_n4',\n",
       " '/global/cscratch1/sd/sfarrell/heptrkx/results/scaling_agnn_n64',\n",
       " '/global/cscratch1/sd/sfarrell/heptrkx/results/scaling_agnn_n8']"
      ]
     },
     "execution_count": 9,
     "metadata": {},
     "output_type": "execute_result"
    }
   ],
   "source": [
    "cori_result_dirs = sorted(glob.glob('/global/cscratch1/sd/sfarrell/heptrkx/results/scaling_agnn_*'))\n",
    "cori_result_dirs"
   ]
  },
  {
   "cell_type": "code",
   "execution_count": 21,
   "metadata": {},
   "outputs": [],
   "source": [
    "cori_configs = [load_config_dir(d) for d in cori_result_dirs]\n",
    "cori_results = [load_result(d) for d in cori_result_dirs]"
   ]
  },
  {
   "cell_type": "code",
   "execution_count": 28,
   "metadata": {},
   "outputs": [
    {
     "data": {
      "text/html": [
       "<div>\n",
       "<style scoped>\n",
       "    .dataframe tbody tr th:only-of-type {\n",
       "        vertical-align: middle;\n",
       "    }\n",
       "\n",
       "    .dataframe tbody tr th {\n",
       "        vertical-align: top;\n",
       "    }\n",
       "\n",
       "    .dataframe thead th {\n",
       "        text-align: right;\n",
       "    }\n",
       "</style>\n",
       "<table border=\"1\" class=\"dataframe\">\n",
       "  <thead>\n",
       "    <tr style=\"text-align: right;\">\n",
       "      <th></th>\n",
       "      <th>lr</th>\n",
       "      <th>train_loss</th>\n",
       "      <th>l1</th>\n",
       "      <th>l2</th>\n",
       "      <th>epoch</th>\n",
       "      <th>train_time</th>\n",
       "      <th>valid_loss</th>\n",
       "      <th>valid_acc</th>\n",
       "      <th>valid_time</th>\n",
       "    </tr>\n",
       "  </thead>\n",
       "  <tbody>\n",
       "    <tr>\n",
       "      <td>0</td>\n",
       "      <td>0.001</td>\n",
       "      <td>0.708037</td>\n",
       "      <td>2704.339440</td>\n",
       "      <td>26.295183</td>\n",
       "      <td>0</td>\n",
       "      <td>21.179651</td>\n",
       "      <td>0.421727</td>\n",
       "      <td>0.833089</td>\n",
       "      <td>5.877067</td>\n",
       "    </tr>\n",
       "    <tr>\n",
       "      <td>1</td>\n",
       "      <td>0.001</td>\n",
       "      <td>0.688048</td>\n",
       "      <td>2705.956809</td>\n",
       "      <td>26.293282</td>\n",
       "      <td>1</td>\n",
       "      <td>19.320132</td>\n",
       "      <td>0.340909</td>\n",
       "      <td>0.908189</td>\n",
       "      <td>5.051546</td>\n",
       "    </tr>\n",
       "    <tr>\n",
       "      <td>2</td>\n",
       "      <td>0.001</td>\n",
       "      <td>0.680002</td>\n",
       "      <td>2706.512194</td>\n",
       "      <td>26.285270</td>\n",
       "      <td>2</td>\n",
       "      <td>18.846067</td>\n",
       "      <td>0.370565</td>\n",
       "      <td>0.878614</td>\n",
       "      <td>5.205353</td>\n",
       "    </tr>\n",
       "    <tr>\n",
       "      <td>3</td>\n",
       "      <td>0.001</td>\n",
       "      <td>0.676877</td>\n",
       "      <td>2707.337113</td>\n",
       "      <td>26.279203</td>\n",
       "      <td>3</td>\n",
       "      <td>18.489243</td>\n",
       "      <td>0.351578</td>\n",
       "      <td>0.888773</td>\n",
       "      <td>4.874655</td>\n",
       "    </tr>\n",
       "  </tbody>\n",
       "</table>\n",
       "</div>"
      ],
      "text/plain": [
       "      lr  train_loss           l1         l2  epoch  train_time  valid_loss  \\\n",
       "0  0.001    0.708037  2704.339440  26.295183      0   21.179651    0.421727   \n",
       "1  0.001    0.688048  2705.956809  26.293282      1   19.320132    0.340909   \n",
       "2  0.001    0.680002  2706.512194  26.285270      2   18.846067    0.370565   \n",
       "3  0.001    0.676877  2707.337113  26.279203      3   18.489243    0.351578   \n",
       "\n",
       "   valid_acc  valid_time  \n",
       "0   0.833089    5.877067  \n",
       "1   0.908189    5.051546  \n",
       "2   0.878614    5.205353  \n",
       "3   0.888773    4.874655  "
      ]
     },
     "execution_count": 28,
     "metadata": {},
     "output_type": "execute_result"
    }
   ],
   "source": [
    "cori_results[0]"
   ]
  },
  {
   "cell_type": "code",
   "execution_count": 30,
   "metadata": {},
   "outputs": [],
   "source": [
    "# Compute throughputs\n",
    "ranks = np.array([c['n_ranks'] for c in cori_configs])\n",
    "throughputs = np.array([compute_throughput(r, c) for (r, c) in zip(cori_results, cori_configs)])\n",
    "idx = np.argsort(ranks)\n",
    "ranks = ranks[idx]\n",
    "throughputs = throughputs[idx]"
   ]
  },
  {
   "cell_type": "code",
   "execution_count": 55,
   "metadata": {},
   "outputs": [
    {
     "data": {
      "text/plain": [
       "Text(0, 0.5, 'Throughput')"
      ]
     },
     "execution_count": 55,
     "metadata": {},
     "output_type": "execute_result"
    },
    {
     "data": {
      "image/png": "[encoded data removed]",
      "text/plain": [
       "<Figure size 648x576 with 1 Axes>"
      ]
     },
     "metadata": {
      "needs_background": "light"
     },
     "output_type": "display_data"
    }
   ],
   "source": [
    "plt.figure(figsize=(9, 8))\n",
    "plt.plot(ranks, throughputs, 'o-', label='Training')\n",
    "plt.plot(ranks, ranks*throughputs[0], '--', label='Ideal')\n",
    "plt.xlabel('Number of workers')\n",
    "plt.ylabel('Throughput');"
   ]
  },
  {
   "cell_type": "markdown",
   "metadata": {},
   "source": [
    "## Cori GPU scaling"
   ]
  },
  {
   "cell_type": "code",
   "execution_count": 63,
   "metadata": {},
   "outputs": [
    {
     "data": {
      "text/plain": [
       "['/global/cscratch1/sd/sfarrell/heptrkx/results/scaling_cgpu_agnn_n1',\n",
       " '/global/cscratch1/sd/sfarrell/heptrkx/results/scaling_cgpu_agnn_n16',\n",
       " '/global/cscratch1/sd/sfarrell/heptrkx/results/scaling_cgpu_agnn_n2',\n",
       " '/global/cscratch1/sd/sfarrell/heptrkx/results/scaling_cgpu_agnn_n32',\n",
       " '/global/cscratch1/sd/sfarrell/heptrkx/results/scaling_cgpu_agnn_n4',\n",
       " '/global/cscratch1/sd/sfarrell/heptrkx/results/scaling_cgpu_agnn_n64',\n",
       " '/global/cscratch1/sd/sfarrell/heptrkx/results/scaling_cgpu_agnn_n8']"
      ]
     },
     "execution_count": 63,
     "metadata": {},
     "output_type": "execute_result"
    }
   ],
   "source": [
    "cgpu_result_dirs = sorted(glob.glob('/global/cscratch1/sd/sfarrell/heptrkx/results/scaling_cgpu_agnn_*'))\n",
    "cgpu_result_dirs"
   ]
  },
  {
   "cell_type": "code",
   "execution_count": 64,
   "metadata": {},
   "outputs": [],
   "source": [
    "cgpu_configs = [load_config_dir(d) for d in cgpu_result_dirs]\n",
    "cgpu_results = [load_result(d) for d in cgpu_result_dirs]"
   ]
  },
  {
   "cell_type": "code",
   "execution_count": 65,
   "metadata": {},
   "outputs": [
    {
     "data": {
      "text/html": [
       "<div>\n",
       "<style scoped>\n",
       "    .dataframe tbody tr th:only-of-type {\n",
       "        vertical-align: middle;\n",
       "    }\n",
       "\n",
       "    .dataframe tbody tr th {\n",
       "        vertical-align: top;\n",
       "    }\n",
       "\n",
       "    .dataframe thead th {\n",
       "        text-align: right;\n",
       "    }\n",
       "</style>\n",
       "<table border=\"1\" class=\"dataframe\">\n",
       "  <thead>\n",
       "    <tr style=\"text-align: right;\">\n",
       "      <th></th>\n",
       "      <th>lr</th>\n",
       "      <th>train_loss</th>\n",
       "      <th>l1</th>\n",
       "      <th>l2</th>\n",
       "      <th>epoch</th>\n",
       "      <th>train_time</th>\n",
       "      <th>valid_loss</th>\n",
       "      <th>valid_acc</th>\n",
       "      <th>valid_time</th>\n",
       "    </tr>\n",
       "  </thead>\n",
       "  <tbody>\n",
       "    <tr>\n",
       "      <td>0</td>\n",
       "      <td>0.001</td>\n",
       "      <td>0.678537</td>\n",
       "      <td>2719.685743</td>\n",
       "      <td>26.376312</td>\n",
       "      <td>0</td>\n",
       "      <td>13.921123</td>\n",
       "      <td>0.351072</td>\n",
       "      <td>0.884437</td>\n",
       "      <td>2.829564</td>\n",
       "    </tr>\n",
       "    <tr>\n",
       "      <td>1</td>\n",
       "      <td>0.001</td>\n",
       "      <td>0.638763</td>\n",
       "      <td>2760.239212</td>\n",
       "      <td>26.575935</td>\n",
       "      <td>1</td>\n",
       "      <td>13.610343</td>\n",
       "      <td>0.325373</td>\n",
       "      <td>0.896523</td>\n",
       "      <td>2.828546</td>\n",
       "    </tr>\n",
       "    <tr>\n",
       "      <td>2</td>\n",
       "      <td>0.001</td>\n",
       "      <td>0.576113</td>\n",
       "      <td>2821.214641</td>\n",
       "      <td>26.888685</td>\n",
       "      <td>2</td>\n",
       "      <td>13.587891</td>\n",
       "      <td>0.268393</td>\n",
       "      <td>0.867234</td>\n",
       "      <td>2.816015</td>\n",
       "    </tr>\n",
       "    <tr>\n",
       "      <td>3</td>\n",
       "      <td>0.001</td>\n",
       "      <td>0.447980</td>\n",
       "      <td>2861.069703</td>\n",
       "      <td>27.106458</td>\n",
       "      <td>3</td>\n",
       "      <td>13.558922</td>\n",
       "      <td>0.223351</td>\n",
       "      <td>0.885795</td>\n",
       "      <td>2.795503</td>\n",
       "    </tr>\n",
       "  </tbody>\n",
       "</table>\n",
       "</div>"
      ],
      "text/plain": [
       "      lr  train_loss           l1         l2  epoch  train_time  valid_loss  \\\n",
       "0  0.001    0.678537  2719.685743  26.376312      0   13.921123    0.351072   \n",
       "1  0.001    0.638763  2760.239212  26.575935      1   13.610343    0.325373   \n",
       "2  0.001    0.576113  2821.214641  26.888685      2   13.587891    0.268393   \n",
       "3  0.001    0.447980  2861.069703  27.106458      3   13.558922    0.223351   \n",
       "\n",
       "   valid_acc  valid_time  \n",
       "0   0.884437    2.829564  \n",
       "1   0.896523    2.828546  \n",
       "2   0.867234    2.816015  \n",
       "3   0.885795    2.795503  "
      ]
     },
     "execution_count": 65,
     "metadata": {},
     "output_type": "execute_result"
    }
   ],
   "source": [
    "cgpu_results[0]"
   ]
  },
  {
   "cell_type": "code",
   "execution_count": 66,
   "metadata": {},
   "outputs": [],
   "source": [
    "# Compute throughputs\n",
    "ranks = np.array([c['n_ranks'] for c in cgpu_configs])\n",
    "throughputs = np.array([compute_throughput(r, c) for (r, c) in zip(cgpu_results, cgpu_configs)])\n",
    "idx = np.argsort(ranks)\n",
    "ranks = ranks[idx]\n",
    "throughputs = throughputs[idx]"
   ]
  },
  {
   "cell_type": "code",
   "execution_count": 67,
   "metadata": {},
   "outputs": [
    {
     "data": {
      "image/png": "[encoded data removed]",
      "text/plain": [
       "<Figure size 648x576 with 1 Axes>"
      ]
     },
     "metadata": {
      "needs_background": "light"
     },
     "output_type": "display_data"
    }
   ],
   "source": [
    "plt.figure(figsize=(9, 8))\n",
    "plt.plot(ranks, throughputs, 'o-', label='Training')\n",
    "plt.plot(ranks, ranks*throughputs[0], '--', label='Ideal')\n",
    "plt.xlabel('Number of workers')\n",
    "plt.ylabel('Throughput');"
   ]
  }
 ],
 "metadata": {
  "kernelspec": {
   "display_name": "pytorch-v1.2.0",
   "language": "python",
   "name": "pytorch-v1.2.0"
  },
  "language_info": {
   "codemirror_mode": {
    "name": "ipython",
    "version": 3
   },
   "file_extension": ".py",
   "mimetype": "text/x-python",
   "name": "python",
   "nbconvert_exporter": "python",
   "pygments_lexer": "ipython3",
   "version": "3.6.9"
  }
 },
 "nbformat": 4,
 "nbformat_minor": 4
}
