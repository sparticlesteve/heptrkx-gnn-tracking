{
 "cells": [
  {
   "cell_type": "markdown",
   "metadata": {},
   "source": [
    "# GNN Scaling Analysis"
   ]
  },
  {
   "cell_type": "code",
   "execution_count": 1,
   "metadata": {},
   "outputs": [],
   "source": [
    "import os\n",
    "import sys\n",
    "import pickle\n",
    "import glob\n",
    "\n",
    "import pandas as pd\n",
    "import numpy as np\n",
    "\n",
    "import matplotlib.pyplot as plt\n",
    "\n",
    "# Local imports\n",
    "sys.path.append('..')\n",
    "from trainers import get_trainer\n",
    "from nb_utils import (load_config_file, load_config_dir, load_summaries,\n",
    "                      plot_train_history, get_test_data_loader,\n",
    "                      compute_metrics, plot_metrics, draw_sample_xy)"
   ]
  },
  {
   "cell_type": "code",
   "execution_count": 2,
   "metadata": {},
   "outputs": [],
   "source": [
    "%matplotlib inline"
   ]
  },
  {
   "cell_type": "code",
   "execution_count": 3,
   "metadata": {},
   "outputs": [],
   "source": [
    "plt.rcParams.update({'font.size': 14})"
   ]
  },
  {
   "cell_type": "code",
   "execution_count": 4,
   "metadata": {},
   "outputs": [],
   "source": [
    "def load_result(result_dir):\n",
    "    history_files = glob.glob(os.path.join(result_dir, 'summaries_*.csv'))\n",
    "    return pd.concat([pd.read_csv(f) for f in history_files], ignore_index=True)\n",
    "\n",
    "def compute_mean_time(r):\n",
    "    return r[r.epoch>0].train_time.mean()\n",
    "\n",
    "def get_num_samples(config):\n",
    "    return config['data']['n_train']\n",
    "\n",
    "def compute_throughput(result, config):\n",
    "    return get_num_samples(config) / compute_mean_time(result)"
   ]
  },
  {
   "cell_type": "code",
   "execution_count": 5,
   "metadata": {},
   "outputs": [
    {
     "name": "stdout",
     "output_type": "stream",
     "text": [
      "\u001b[0m\u001b[01;34magnn_001\u001b[0m/          \u001b[01;34mscaling_agnn_n4\u001b[0m/         \u001b[01;34mscaling_cgpu_agnn_n2\u001b[0m/\n",
      "\u001b[01;34mmpnn_001\u001b[0m/          \u001b[01;34mscaling_agnn_n64\u001b[0m/        \u001b[01;34mscaling_cgpu_agnn_n32\u001b[0m/\n",
      "\u001b[01;34mscaling_agnn_n1\u001b[0m/   \u001b[01;34mscaling_agnn_n8\u001b[0m/         \u001b[01;34mscaling_cgpu_agnn_n4\u001b[0m/\n",
      "\u001b[01;34mscaling_agnn_n16\u001b[0m/  \u001b[01;34mscaling_cgpu_agnn_n1\u001b[0m/    \u001b[01;34mscaling_cgpu_agnn_n64\u001b[0m/\n",
      "\u001b[01;34mscaling_agnn_n2\u001b[0m/   \u001b[01;34mscaling_cgpu_agnn_n128\u001b[0m/  \u001b[01;34mscaling_cgpu_agnn_n8\u001b[0m/\n",
      "\u001b[01;34mscaling_agnn_n32\u001b[0m/  \u001b[01;34mscaling_cgpu_agnn_n16\u001b[0m/\n"
     ]
    }
   ],
   "source": [
    "ls $SCRATCH/heptrkx/results_balanced"
   ]
  },
  {
   "cell_type": "markdown",
   "metadata": {},
   "source": [
    "## Cori Scaling"
   ]
  },
  {
   "cell_type": "code",
   "execution_count": 16,
   "metadata": {},
   "outputs": [
    {
     "data": {
      "text/plain": [
       "['/global/cscratch1/sd/sfarrell/heptrkx/results_balanced/scaling_agnn_n1',\n",
       " '/global/cscratch1/sd/sfarrell/heptrkx/results_balanced/scaling_agnn_n16',\n",
       " '/global/cscratch1/sd/sfarrell/heptrkx/results_balanced/scaling_agnn_n2',\n",
       " '/global/cscratch1/sd/sfarrell/heptrkx/results_balanced/scaling_agnn_n32',\n",
       " '/global/cscratch1/sd/sfarrell/heptrkx/results_balanced/scaling_agnn_n4',\n",
       " '/global/cscratch1/sd/sfarrell/heptrkx/results_balanced/scaling_agnn_n64',\n",
       " '/global/cscratch1/sd/sfarrell/heptrkx/results_balanced/scaling_agnn_n8']"
      ]
     },
     "execution_count": 16,
     "metadata": {},
     "output_type": "execute_result"
    }
   ],
   "source": [
    "cori_result_dirs = sorted(glob.glob('/global/cscratch1/sd/sfarrell/heptrkx/results_balanced/scaling_agnn_*'))\n",
    "cori_result_dirs"
   ]
  },
  {
   "cell_type": "code",
   "execution_count": 17,
   "metadata": {},
   "outputs": [],
   "source": [
    "cori_configs = [load_config_dir(d) for d in cori_result_dirs]\n",
    "cori_results = [load_result(d) for d in cori_result_dirs]"
   ]
  },
  {
   "cell_type": "code",
   "execution_count": 18,
   "metadata": {},
   "outputs": [
    {
     "data": {
      "text/html": [
       "<div>\n",
       "<style scoped>\n",
       "    .dataframe tbody tr th:only-of-type {\n",
       "        vertical-align: middle;\n",
       "    }\n",
       "\n",
       "    .dataframe tbody tr th {\n",
       "        vertical-align: top;\n",
       "    }\n",
       "\n",
       "    .dataframe thead th {\n",
       "        text-align: right;\n",
       "    }\n",
       "</style>\n",
       "<table border=\"1\" class=\"dataframe\">\n",
       "  <thead>\n",
       "    <tr style=\"text-align: right;\">\n",
       "      <th></th>\n",
       "      <th>lr</th>\n",
       "      <th>train_loss</th>\n",
       "      <th>l1</th>\n",
       "      <th>l2</th>\n",
       "      <th>epoch</th>\n",
       "      <th>train_time</th>\n",
       "      <th>valid_loss</th>\n",
       "      <th>valid_acc</th>\n",
       "      <th>valid_time</th>\n",
       "    </tr>\n",
       "  </thead>\n",
       "  <tbody>\n",
       "    <tr>\n",
       "      <td>0</td>\n",
       "      <td>0.001</td>\n",
       "      <td>0.532952</td>\n",
       "      <td>2705.715812</td>\n",
       "      <td>26.302211</td>\n",
       "      <td>0</td>\n",
       "      <td>19.902824</td>\n",
       "      <td>0.314405</td>\n",
       "      <td>0.913898</td>\n",
       "      <td>8.404821</td>\n",
       "    </tr>\n",
       "    <tr>\n",
       "      <td>1</td>\n",
       "      <td>0.001</td>\n",
       "      <td>0.512183</td>\n",
       "      <td>2707.028533</td>\n",
       "      <td>26.299754</td>\n",
       "      <td>1</td>\n",
       "      <td>17.897756</td>\n",
       "      <td>0.305600</td>\n",
       "      <td>0.915803</td>\n",
       "      <td>6.495265</td>\n",
       "    </tr>\n",
       "    <tr>\n",
       "      <td>2</td>\n",
       "      <td>0.001</td>\n",
       "      <td>0.506814</td>\n",
       "      <td>2707.605350</td>\n",
       "      <td>26.293092</td>\n",
       "      <td>2</td>\n",
       "      <td>26.911603</td>\n",
       "      <td>0.276447</td>\n",
       "      <td>0.924408</td>\n",
       "      <td>5.539717</td>\n",
       "    </tr>\n",
       "    <tr>\n",
       "      <td>3</td>\n",
       "      <td>0.001</td>\n",
       "      <td>0.506300</td>\n",
       "      <td>2709.161770</td>\n",
       "      <td>26.288730</td>\n",
       "      <td>3</td>\n",
       "      <td>15.969161</td>\n",
       "      <td>0.280526</td>\n",
       "      <td>0.924701</td>\n",
       "      <td>5.260856</td>\n",
       "    </tr>\n",
       "  </tbody>\n",
       "</table>\n",
       "</div>"
      ],
      "text/plain": [
       "      lr  train_loss           l1         l2  epoch  train_time  valid_loss  \\\n",
       "0  0.001    0.532952  2705.715812  26.302211      0   19.902824    0.314405   \n",
       "1  0.001    0.512183  2707.028533  26.299754      1   17.897756    0.305600   \n",
       "2  0.001    0.506814  2707.605350  26.293092      2   26.911603    0.276447   \n",
       "3  0.001    0.506300  2709.161770  26.288730      3   15.969161    0.280526   \n",
       "\n",
       "   valid_acc  valid_time  \n",
       "0   0.913898    8.404821  \n",
       "1   0.915803    6.495265  \n",
       "2   0.924408    5.539717  \n",
       "3   0.924701    5.260856  "
      ]
     },
     "execution_count": 18,
     "metadata": {},
     "output_type": "execute_result"
    }
   ],
   "source": [
    "cori_results[0]"
   ]
  },
  {
   "cell_type": "code",
   "execution_count": 19,
   "metadata": {},
   "outputs": [],
   "source": [
    "# Compute throughputs\n",
    "ranks = np.array([c['n_ranks'] for c in cori_configs])\n",
    "throughputs = np.array([compute_throughput(r, c) for (r, c) in zip(cori_results, cori_configs)])\n",
    "idx = np.argsort(ranks)\n",
    "ranks = ranks[idx]\n",
    "throughputs = throughputs[idx]"
   ]
  },
  {
   "cell_type": "code",
   "execution_count": 20,
   "metadata": {},
   "outputs": [
    {
     "data": {
      "image/png": "[encoded data removed]",
      "text/plain": [
       "<Figure size 648x576 with 1 Axes>"
      ]
     },
     "metadata": {
      "needs_background": "light"
     },
     "output_type": "display_data"
    }
   ],
   "source": [
    "plt.figure(figsize=(9, 8))\n",
    "plt.plot(ranks, throughputs, 'o-', label='Training')\n",
    "plt.plot(ranks, ranks*throughputs[0], '--', label='Ideal')\n",
    "plt.xlabel('Number of workers')\n",
    "plt.ylabel('Throughput')\n",
    "plt.grid()"
   ]
  },
  {
   "cell_type": "markdown",
   "metadata": {},
   "source": [
    "## Cori GPU scaling"
   ]
  },
  {
   "cell_type": "code",
   "execution_count": 11,
   "metadata": {},
   "outputs": [
    {
     "data": {
      "text/plain": [
       "['/global/cscratch1/sd/sfarrell/heptrkx/results_balanced/scaling_cgpu_agnn_n1',\n",
       " '/global/cscratch1/sd/sfarrell/heptrkx/results_balanced/scaling_cgpu_agnn_n128',\n",
       " '/global/cscratch1/sd/sfarrell/heptrkx/results_balanced/scaling_cgpu_agnn_n16',\n",
       " '/global/cscratch1/sd/sfarrell/heptrkx/results_balanced/scaling_cgpu_agnn_n2',\n",
       " '/global/cscratch1/sd/sfarrell/heptrkx/results_balanced/scaling_cgpu_agnn_n32',\n",
       " '/global/cscratch1/sd/sfarrell/heptrkx/results_balanced/scaling_cgpu_agnn_n4',\n",
       " '/global/cscratch1/sd/sfarrell/heptrkx/results_balanced/scaling_cgpu_agnn_n64',\n",
       " '/global/cscratch1/sd/sfarrell/heptrkx/results_balanced/scaling_cgpu_agnn_n8']"
      ]
     },
     "execution_count": 11,
     "metadata": {},
     "output_type": "execute_result"
    }
   ],
   "source": [
    "cgpu_result_dirs = sorted(glob.glob('/global/cscratch1/sd/sfarrell/heptrkx/results_balanced/scaling_cgpu_agnn_*'))\n",
    "cgpu_result_dirs"
   ]
  },
  {
   "cell_type": "code",
   "execution_count": 12,
   "metadata": {},
   "outputs": [],
   "source": [
    "cgpu_configs = [load_config_dir(d) for d in cgpu_result_dirs]\n",
    "cgpu_results = [load_result(d) for d in cgpu_result_dirs]"
   ]
  },
  {
   "cell_type": "code",
   "execution_count": 13,
   "metadata": {},
   "outputs": [
    {
     "data": {
      "text/html": [
       "<div>\n",
       "<style scoped>\n",
       "    .dataframe tbody tr th:only-of-type {\n",
       "        vertical-align: middle;\n",
       "    }\n",
       "\n",
       "    .dataframe tbody tr th {\n",
       "        vertical-align: top;\n",
       "    }\n",
       "\n",
       "    .dataframe thead th {\n",
       "        text-align: right;\n",
       "    }\n",
       "</style>\n",
       "<table border=\"1\" class=\"dataframe\">\n",
       "  <thead>\n",
       "    <tr style=\"text-align: right;\">\n",
       "      <th></th>\n",
       "      <th>lr</th>\n",
       "      <th>train_loss</th>\n",
       "      <th>l1</th>\n",
       "      <th>l2</th>\n",
       "      <th>epoch</th>\n",
       "      <th>train_time</th>\n",
       "      <th>valid_loss</th>\n",
       "      <th>valid_acc</th>\n",
       "      <th>valid_time</th>\n",
       "    </tr>\n",
       "  </thead>\n",
       "  <tbody>\n",
       "    <tr>\n",
       "      <td>0</td>\n",
       "      <td>0.001</td>\n",
       "      <td>0.498968</td>\n",
       "      <td>2710.859385</td>\n",
       "      <td>26.299892</td>\n",
       "      <td>0</td>\n",
       "      <td>14.455101</td>\n",
       "      <td>0.299191</td>\n",
       "      <td>0.907628</td>\n",
       "      <td>3.004500</td>\n",
       "    </tr>\n",
       "    <tr>\n",
       "      <td>1</td>\n",
       "      <td>0.001</td>\n",
       "      <td>0.479765</td>\n",
       "      <td>2734.451439</td>\n",
       "      <td>26.377645</td>\n",
       "      <td>1</td>\n",
       "      <td>14.120042</td>\n",
       "      <td>0.295159</td>\n",
       "      <td>0.909504</td>\n",
       "      <td>2.917482</td>\n",
       "    </tr>\n",
       "    <tr>\n",
       "      <td>2</td>\n",
       "      <td>0.001</td>\n",
       "      <td>0.435088</td>\n",
       "      <td>2782.397767</td>\n",
       "      <td>26.637816</td>\n",
       "      <td>2</td>\n",
       "      <td>14.157034</td>\n",
       "      <td>0.238081</td>\n",
       "      <td>0.911901</td>\n",
       "      <td>2.897545</td>\n",
       "    </tr>\n",
       "    <tr>\n",
       "      <td>3</td>\n",
       "      <td>0.001</td>\n",
       "      <td>0.336464</td>\n",
       "      <td>2823.701282</td>\n",
       "      <td>26.830034</td>\n",
       "      <td>3</td>\n",
       "      <td>13.751545</td>\n",
       "      <td>0.153901</td>\n",
       "      <td>0.937600</td>\n",
       "      <td>2.876455</td>\n",
       "    </tr>\n",
       "  </tbody>\n",
       "</table>\n",
       "</div>"
      ],
      "text/plain": [
       "      lr  train_loss           l1         l2  epoch  train_time  valid_loss  \\\n",
       "0  0.001    0.498968  2710.859385  26.299892      0   14.455101    0.299191   \n",
       "1  0.001    0.479765  2734.451439  26.377645      1   14.120042    0.295159   \n",
       "2  0.001    0.435088  2782.397767  26.637816      2   14.157034    0.238081   \n",
       "3  0.001    0.336464  2823.701282  26.830034      3   13.751545    0.153901   \n",
       "\n",
       "   valid_acc  valid_time  \n",
       "0   0.907628    3.004500  \n",
       "1   0.909504    2.917482  \n",
       "2   0.911901    2.897545  \n",
       "3   0.937600    2.876455  "
      ]
     },
     "execution_count": 13,
     "metadata": {},
     "output_type": "execute_result"
    }
   ],
   "source": [
    "cgpu_results[0]"
   ]
  },
  {
   "cell_type": "code",
   "execution_count": 14,
   "metadata": {},
   "outputs": [],
   "source": [
    "# Compute throughputs\n",
    "ranks = np.array([c['n_ranks'] for c in cgpu_configs])\n",
    "throughputs = np.array([compute_throughput(r, c) for (r, c) in zip(cgpu_results, cgpu_configs)])\n",
    "idx = np.argsort(ranks)\n",
    "ranks = ranks[idx]\n",
    "throughputs = throughputs[idx]"
   ]
  },
  {
   "cell_type": "code",
   "execution_count": 15,
   "metadata": {},
   "outputs": [
    {
     "data": {
      "image/png": "[encoded data removed]",
      "text/plain": [
       "<Figure size 648x576 with 1 Axes>"
      ]
     },
     "metadata": {
      "needs_background": "light"
     },
     "output_type": "display_data"
    }
   ],
   "source": [
    "plt.figure(figsize=(9, 8))\n",
    "plt.plot(ranks, throughputs, 'o-', label='Training')\n",
    "plt.plot(ranks, ranks*throughputs[0], '--', label='Ideal')\n",
    "plt.xlabel('Number of workers')\n",
    "plt.ylabel('Throughput')\n",
    "plt.grid()"
   ]
  }
 ],
 "metadata": {
  "kernelspec": {
   "display_name": "pytorch-v1.2.0",
   "language": "python",
   "name": "pytorch-v1.2.0"
  },
  "language_info": {
   "codemirror_mode": {
    "name": "ipython",
    "version": 3
   },
   "file_extension": ".py",
   "mimetype": "text/x-python",
   "name": "python",
   "nbconvert_exporter": "python",
   "pygments_lexer": "ipython3",
   "version": "3.6.9"
  }
 },
 "nbformat": 4,
 "nbformat_minor": 4
}
